{
 "cells": [
  {
   "cell_type": "code",
   "execution_count": 14,
   "metadata": {},
   "outputs": [],
   "source": [
    "from sklearn.metrics import mean_squared_error, r2_score\n",
    "from sklearn.model_selection import train_test_split\n",
    "from sklearn.preprocessing import add_dummy_feature\n",
    "import matplotlib.pyplot as plt\n",
    "import pandas as pd\n",
    "import numpy as np\n",
    "import pickle"
   ]
  },
  {
   "cell_type": "code",
   "execution_count": 15,
   "metadata": {},
   "outputs": [],
   "source": [
    "# Función para comparar los coeficientes de dos modelos hecha con ayuda de Claude sonnet 3.7\n",
    "def compare_coefs(W1, W2):\n",
    "    if len(W1) != len(W2):\n",
    "        print(f\"Arrays have different lengths: {len(W1)} vs {len(W2)}\")\n",
    "        return False\n",
    "    \n",
    "    max_diff = 0\n",
    "    for i in range(len(W1)):\n",
    "        diff = W1[i] - W2[i]\n",
    "        max_diff = max(max_diff, abs(diff))\n",
    "        print(f'{W1[i]:.6f} - {W2[i]:.6f} = {diff:.10f}')\n",
    "            \n",
    "    # Check for equality within a small tolerance to account for floating point errors\n",
    "    are_equal = np.allclose(W1, W2, rtol=1e-10, atol=1e-10)\n",
    "    print(f\"Los coeficientes son iguales: {are_equal}\")\n",
    "    return are_equal"
   ]
  },
  {
   "cell_type": "code",
   "execution_count": 16,
   "metadata": {},
   "outputs": [],
   "source": [
    "source_file = '../data/processed/Airbnb_Feature_Engineered.csv'\n",
    "df = pd.read_csv(source_file, low_memory=False)\n",
    "\n",
    "# Dividir primero en train+valid y test\n",
    "train_valid, test = train_test_split(df, test_size=0.2, random_state=42)\n",
    "\n",
    "# Dividir train+valid en train y valid\n",
    "train, valid = train_test_split(train_valid, test_size=0.2, random_state=42)\n",
    "\n",
    "train.to_csv('../data/processed/Airbnb_Train.csv', index=False)\n",
    "valid.to_csv('../data/processed/Airbnb_Valid.csv', index=False)\n",
    "test.to_csv('../data/processed/Airbnb_Test.csv', index=False)"
   ]
  },
  {
   "cell_type": "code",
   "execution_count": 17,
   "metadata": {},
   "outputs": [],
   "source": [
    "# Definir las matrices X y Y\n",
    "Y_train = train['log_price']\n",
    "X_train = train.drop(columns=['log_price'])\n",
    "\n",
    "Y_valid = valid['log_price']\n",
    "X_valid = valid.drop(columns=['log_price'])\n",
    "\n",
    "# Convertir a numpy arrays\n",
    "X_train = X_train.to_numpy()\n",
    "Y_train = Y_train.to_numpy()\n",
    "\n",
    "X_valid = X_valid.to_numpy()\n",
    "Y_valid = Y_valid.to_numpy()\n",
    "\n",
    "# Añadir una columna de unos para el término de intercepción\n",
    "X_train = add_dummy_feature(X_train)\n",
    "X_valid = add_dummy_feature(X_valid)"
   ]
  },
  {
   "cell_type": "markdown",
   "metadata": {},
   "source": [
    "**a) Regresión Lineal con Ecuación Normal**\n",
    "*   Implementación propia."
   ]
  },
  {
   "cell_type": "code",
   "execution_count": 18,
   "metadata": {},
   "outputs": [
    {
     "data": {
      "text/plain": [
       "array([ 5.06282056,  0.16828848,  0.24649662,  0.1401294 , -0.05570871,\n",
       "        0.05548442,  0.01600112,  0.08523612, -0.01536713, -0.08214661,\n",
       "       -0.93346524, -0.50678949])"
      ]
     },
     "execution_count": 18,
     "metadata": {},
     "output_type": "execute_result"
    }
   ],
   "source": [
    "# Calcular los pesos usando la ecuación normal\n",
    "W = np.linalg.inv(X_train.T @ X_train) @ X_train.T @ Y_train\n",
    "W"
   ]
  },
  {
   "cell_type": "markdown",
   "metadata": {},
   "source": [
    "*   Uso de sklearn (LinearRegression)."
   ]
  },
  {
   "cell_type": "code",
   "execution_count": 19,
   "metadata": {},
   "outputs": [
    {
     "data": {
      "text/plain": [
       "array([ 5.06282056,  0.16828848,  0.24649662,  0.1401294 , -0.05570871,\n",
       "        0.05548442,  0.01600112,  0.08523612, -0.01536713, -0.08214661,\n",
       "       -0.93346524, -0.50678949])"
      ]
     },
     "execution_count": 19,
     "metadata": {},
     "output_type": "execute_result"
    }
   ],
   "source": [
    "from sklearn.linear_model import LinearRegression\n",
    "\n",
    "model = LinearRegression(fit_intercept=False)\n",
    "model.fit(X_train, Y_train)\n",
    "W_sklearn = model.coef_\n",
    "W_sklearn"
   ]
  },
  {
   "cell_type": "code",
   "execution_count": 20,
   "metadata": {},
   "outputs": [
    {
     "name": "stdout",
     "output_type": "stream",
     "text": [
      "5.062821 - 5.062821 = -0.0000000000\n",
      "0.168288 - 0.168288 = -0.0000000000\n",
      "0.246497 - 0.246497 = 0.0000000000\n",
      "0.140129 - 0.140129 = 0.0000000000\n",
      "-0.055709 - -0.055709 = 0.0000000000\n",
      "0.055484 - 0.055484 = -0.0000000000\n",
      "0.016001 - 0.016001 = -0.0000000000\n",
      "0.085236 - 0.085236 = 0.0000000000\n",
      "-0.015367 - -0.015367 = 0.0000000000\n",
      "-0.082147 - -0.082147 = 0.0000000000\n",
      "-0.933465 - -0.933465 = -0.0000000000\n",
      "-0.506789 - -0.506789 = -0.0000000000\n",
      "Los coeficientes son iguales: True\n"
     ]
    }
   ],
   "source": [
    "compare_coefs(W, W_sklearn)\n",
    "\n",
    "# Guardar los pesos en un archivo .pkl\n",
    "with open('../models/ecuacion_normal.pkl', 'wb') as file:\n",
    "    pickle.dump(W_sklearn, file)"
   ]
  },
  {
   "cell_type": "markdown",
   "metadata": {},
   "source": [
    "**b) Regresión Lineal con Singular Value Decomposition (SVD)**\n",
    "*   Implementación con librerías de álgebra lineal."
   ]
  },
  {
   "cell_type": "code",
   "execution_count": 21,
   "metadata": {},
   "outputs": [
    {
     "data": {
      "text/plain": [
       "array([ 5.06282056,  0.16828848,  0.24649662,  0.1401294 , -0.05570871,\n",
       "        0.05548442,  0.01600112,  0.08523612, -0.01536713, -0.08214661,\n",
       "       -0.93346524, -0.50678949])"
      ]
     },
     "execution_count": 21,
     "metadata": {},
     "output_type": "execute_result"
    }
   ],
   "source": [
    "U, sigma, Vt = np.linalg.svd(X_train, full_matrices=False)\n",
    "sigma_plus = np.diag(1/sigma)\n",
    "W_svd = Vt.T @ sigma_plus @ U.T @ Y_train\n",
    "W_svd"
   ]
  },
  {
   "cell_type": "markdown",
   "metadata": {},
   "source": [
    "*   Uso de sklearn (LinearRegression)."
   ]
  },
  {
   "cell_type": "code",
   "execution_count": 22,
   "metadata": {},
   "outputs": [
    {
     "data": {
      "text/plain": [
       "array([ 5.06282056,  0.16828848,  0.24649662,  0.1401294 , -0.05570871,\n",
       "        0.05548442,  0.01600112,  0.08523612, -0.01536713, -0.08214661,\n",
       "       -0.93346524, -0.50678949])"
      ]
     },
     "execution_count": 22,
     "metadata": {},
     "output_type": "execute_result"
    }
   ],
   "source": [
    "model = LinearRegression(fit_intercept=False)\n",
    "model.fit(X_train, Y_train)  # Automáticamente usa SVD para matrices singulares\n",
    "W_sklearn_svd = model.coef_\n",
    "W_sklearn_svd"
   ]
  },
  {
   "cell_type": "code",
   "execution_count": 23,
   "metadata": {},
   "outputs": [
    {
     "name": "stdout",
     "output_type": "stream",
     "text": [
      "5.062821 - 5.062821 = 0.0000000000\n",
      "0.168288 - 0.168288 = -0.0000000000\n",
      "0.246497 - 0.246497 = 0.0000000000\n",
      "0.140129 - 0.140129 = -0.0000000000\n",
      "-0.055709 - -0.055709 = 0.0000000000\n",
      "0.055484 - 0.055484 = -0.0000000000\n",
      "0.016001 - 0.016001 = -0.0000000000\n",
      "0.085236 - 0.085236 = 0.0000000000\n",
      "-0.015367 - -0.015367 = 0.0000000000\n",
      "-0.082147 - -0.082147 = 0.0000000000\n",
      "-0.933465 - -0.933465 = -0.0000000000\n",
      "-0.506789 - -0.506789 = 0.0000000000\n",
      "Los coeficientes son iguales: True\n"
     ]
    }
   ],
   "source": [
    "compare_coefs(W_svd, W_sklearn_svd)\n",
    "# Guardar los pesos en un archivo .pkl\n",
    "with open('../models/svd.pkl', 'wb') as file:\n",
    "    pickle.dump(W_sklearn_svd, file)"
   ]
  },
  {
   "cell_type": "markdown",
   "metadata": {},
   "source": [
    "**c) Regresión Polinomial**\n",
    "*   Uso de sklearn (PolynomialFeatures + LinearRegression)."
   ]
  },
  {
   "cell_type": "code",
   "execution_count": 30,
   "metadata": {},
   "outputs": [
    {
     "name": "stdout",
     "output_type": "stream",
     "text": [
      "[ 1.04972724e-17  8.85282533e-02  1.28324399e-01  5.94007365e-02\n",
      " -1.24729618e-02  7.07460756e-02  7.33616443e-03  2.88625294e-02\n",
      " -7.14636552e-03 -2.63522733e-02 -2.90567872e-01 -1.69157308e-01\n",
      "  1.66533454e-16  8.85282533e-02  1.28324399e-01  5.94007365e-02\n",
      " -1.24729618e-02  7.07460756e-02  7.33616443e-03  2.88625294e-02\n",
      " -7.14636552e-03 -2.63522733e-02 -2.90567872e-01 -1.69157308e-01\n",
      " -4.99060016e-03  1.76503720e-02  2.17041605e-02 -2.10435804e-02\n",
      " -4.62493720e-03 -1.38923272e-02  4.23831309e-02 -1.51876678e-02\n",
      " -6.26921410e-02  1.39483661e-01  1.04829003e-01  2.82646279e-03\n",
      " -1.95892488e-03 -1.45683913e-02 -6.82608868e-03 -6.80023891e-04\n",
      "  3.77418639e-03  6.72937642e-03 -2.46405819e-02  1.54560688e-02\n",
      "  1.03536702e-03  3.55763229e-04 -1.85022955e-02 -9.54812897e-03\n",
      "  3.87107402e-03 -4.14255370e-03  6.52335284e-03 -1.66630656e-04\n",
      "  8.62245039e-02 -8.95073146e-02  1.33825319e-02  1.64786880e-03\n",
      " -2.31452555e-03  3.89395422e-03  5.08226538e-03  2.61596459e-02\n",
      " -1.92746070e-01 -2.94611146e-03  3.00996514e-03  2.40202847e-03\n",
      " -1.74311317e-03 -1.59851401e-03 -1.11772810e-03 -2.14246984e-01\n",
      " -1.64433550e-01  6.21068337e-03 -5.08162284e-04  1.23050202e-02\n",
      " -6.18254445e-03  1.35156232e-02  7.30658195e-04  2.88625294e-02\n",
      " -2.45184821e-02 -2.15821002e-02 -7.54568127e-02  3.08089222e-02\n",
      "  2.41286988e-02  2.52937242e-02 -1.03446143e-01 -1.49973552e-02\n",
      " -2.63522733e-02 -6.65674840e-03  2.25075875e-04 -2.90567872e-01\n",
      "  0.00000000e+00 -1.69157308e-01]\n"
     ]
    }
   ],
   "source": [
    "from sklearn.preprocessing import PolynomialFeatures\n",
    "from sklearn.pipeline import make_pipeline\n",
    "\n",
    "# Crear características polinomiales de grado 2\n",
    "poly_features = PolynomialFeatures(degree=2, include_bias=False)\n",
    "X_poly = poly_features.fit_transform(X_train)\n",
    "\n",
    "model_poly = LinearRegression()\n",
    "model_poly.fit(X_poly, Y_train)\n",
    "W_poly = model_poly.coef_\n",
    "print(W_poly)\n",
    "\n",
    "# Guardar los pesos en un archivo .pkl\n",
    "with open('../models/polynomial.pkl', 'wb') as file:\n",
    "    pickle.dump(W_poly, file)"
   ]
  },
  {
   "cell_type": "markdown",
   "metadata": {},
   "source": [
    "*   Análisis del grado del polinomio y su efecto en el sobreajuste."
   ]
  },
  {
   "cell_type": "code",
   "execution_count": 25,
   "metadata": {},
   "outputs": [
    {
     "name": "stdout",
     "output_type": "stream",
     "text": [
      "Grado 1: Train R2=0.62, Test R2=0.63\n",
      "Grado 2: Train R2=0.64, Test R2=0.64\n",
      "Grado 3: Train R2=0.65, Test R2=0.63\n",
      "Grado 4: Train R2=0.66, Test R2=0.56\n",
      "Grado 5: Train R2=0.68, Test R2=-92.98\n"
     ]
    }
   ],
   "source": [
    "# Análisis de sobreajuste \n",
    "for g in range(1,6):\n",
    "    model = make_pipeline(PolynomialFeatures(g), LinearRegression())\n",
    "    model.fit(X_train, Y_train)\n",
    "    train_score = model.score(X_train, Y_train)\n",
    "    test_score = model.score(X_valid, Y_valid)\n",
    "    print(f\"Grado {g}: Train R2={train_score:.2f}, Test R2={test_score:.2f}\")"
   ]
  },
  {
   "cell_type": "markdown",
   "metadata": {},
   "source": [
    "Al ver como mejora la \"puntuación\" en el conjunto de Train pero no en el de Test a medida que incrementamos los grados del polinomio, entonces podemos observar que se esta produciendo overfitting."
   ]
  },
  {
   "cell_type": "markdown",
   "metadata": {},
   "source": [
    "\n",
    "**d) Regresión Lineal con Batch Gradient Descent (BGD)**\n",
    "*   Implementación propia de BGD."
   ]
  },
  {
   "cell_type": "code",
   "execution_count": 42,
   "metadata": {},
   "outputs": [
    {
     "name": "stdout",
     "output_type": "stream",
     "text": [
      "Pesos iniciales: [[ 0.49671415 -0.1382643   0.64768854  1.52302986 -0.23415337 -0.23413696\n",
      "   1.57921282  0.76743473 -0.46947439  0.54256004 -0.46341769 -0.46572975]]\n",
      "Pesos finales: [ 5.06179991  0.16919116  0.24667375  0.14009491 -0.05621795  0.05533052\n",
      "  0.01601913  0.08517485 -0.01537866 -0.08175729 -0.92538415 -0.50564213]\n"
     ]
    }
   ],
   "source": [
    "lr = 0.1  \n",
    "n_epocas = 1000\n",
    "m = len(X_train)\n",
    "\n",
    "np.random.seed(42)\n",
    "W_bgd = np.random.randn(X_train.shape[1], 1)\n",
    "print(f\"Pesos iniciales: {W_bgd.T}\")\n",
    "\n",
    "for epoch in range(n_epocas):\n",
    "    gradient = (2/m) * X_train.T @ (X_train @ W_bgd - Y_train.reshape(-1, 1))\n",
    "    W_bgd = W_bgd - lr * gradient\n",
    "\n",
    "W_bgd = W_bgd.ravel()\n",
    "print(f\"Pesos finales: {W_bgd}\")"
   ]
  },
  {
   "cell_type": "markdown",
   "metadata": {},
   "source": [
    "*   Uso de sklearn con SGDRegressor (ajustado a modo batch)."
   ]
  },
  {
   "cell_type": "code",
   "execution_count": 51,
   "metadata": {},
   "outputs": [
    {
     "name": "stdout",
     "output_type": "stream",
     "text": [
      "[ 2.53123287  0.1386333   0.20536918  0.08245897 -0.00341401  0.17376344\n",
      "  0.02812791  0.04840064 -0.03071304 -0.12786845 -0.94421795 -0.5281051 ]\n"
     ]
    }
   ],
   "source": [
    "from sklearn.linear_model import SGDRegressor\n",
    "\n",
    "model_bgd = SGDRegressor(\n",
    "    learning_rate='constant',\n",
    "    eta0=0.01,\n",
    "    tol=1e-5,\n",
    "    penalty=None,\n",
    "    shuffle=True,\n",
    ")\n",
    "\n",
    "# Entrenar el modelo en modo batch\n",
    "for epoch in range(1000):  \n",
    "    model_bgd.partial_fit(X_train, Y_train)\n",
    "\n",
    "W_bgd_sklearn = model_bgd.coef_\n",
    "print(W_bgd_sklearn)"
   ]
  },
  {
   "cell_type": "code",
   "execution_count": 49,
   "metadata": {},
   "outputs": [
    {
     "name": "stdout",
     "output_type": "stream",
     "text": [
      "5.061800 - 2.574661 = 2.4871388161\n",
      "0.169191 - -0.050088 = 0.2192788452\n",
      "0.246674 - 0.201256 = 0.0454175165\n",
      "0.140095 - -0.268252 = 0.4083466857\n",
      "-0.056218 - 0.163318 = -0.2195357209\n",
      "0.055331 - 0.100234 = -0.0449035297\n",
      "0.016019 - -0.022534 = 0.0385536119\n",
      "0.085175 - -0.163165 = 0.2483399169\n",
      "-0.015379 - 0.007209 = -0.0225872215\n",
      "-0.081757 - -0.362082 = 0.2803245188\n",
      "-0.925384 - -0.802704 = -0.1226796979\n",
      "-0.505642 - -0.580170 = 0.0745280892\n",
      "Los coeficientes son iguales: False\n"
     ]
    }
   ],
   "source": [
    "compare_coefs(W_bgd, W_bgd_sklearn)\n",
    "\n",
    "with open('../models/bgd.pkl', 'wb') as file:\n",
    "    pickle.dump(W_bgd, file)\n",
    "\n",
    "with open('../models/bgd_sklearn.pkl', 'wb') as file:\n",
    "    pickle.dump(W_bgd_sklearn, file)"
   ]
  },
  {
   "cell_type": "markdown",
   "metadata": {},
   "source": [
    "**e) Regresión Lineal con Stochastic Gradient Descent (SGD)**\n",
    "*   Implementación propia de SGD."
   ]
  },
  {
   "cell_type": "code",
   "execution_count": null,
   "metadata": {},
   "outputs": [
    {
     "name": "stdout",
     "output_type": "stream",
     "text": [
      "Pesos iniciales: [[ 0.49671415]\n",
      " [-0.1382643 ]\n",
      " [ 0.64768854]\n",
      " [ 1.52302986]\n",
      " [-0.23415337]\n",
      " [-0.23413696]\n",
      " [ 1.57921282]\n",
      " [ 0.76743473]\n",
      " [-0.46947439]\n",
      " [ 0.54256004]\n",
      " [-0.46341769]\n",
      " [-0.46572975]]\n"
     ]
    }
   ],
   "source": [
    "def programa_aprendizaje(t):\n",
    "    return lr_init_sch / (t + lr_end_sch)\n",
    "\n",
    "n_epocas = 500\n",
    "lr_init_sch = 5\n",
    "lr_end_sch = 50\n",
    "m = len(X_train)\n",
    "\n",
    "np.random.seed(42)\n",
    "W_sgd = np.random.randn(X_train.shape[1], 1)\n",
    "print(f\"Pesos iniciales: {W_sgd}\")\n",
    "\n",
    "for epoca in range(n_epocas):\n",
    "    for iteracion in range(m):\n",
    "        indice_aleatorio = np.random.randint(m)\n",
    "        xi = X_train[indice_aleatorio : indice_aleatorio + 1]\n",
    "        yi = Y_train[indice_aleatorio : indice_aleatorio + 1]\n",
    "\n",
    "        gradient = 2 * xi.T @ (xi @ W_sgd - yi)\n",
    "\n",
    "        lr = programa_aprendizaje(epoca * m + iteracion)\n",
    "        W_sgd = W_sgd - lr * gradient\n",
    "\n",
    "W_sgd = W_sgd.ravel()\n",
    "print(f\"Pesos finales: {W_sgd}\")"
   ]
  },
  {
   "cell_type": "markdown",
   "metadata": {},
   "source": [
    "*   Uso de sklearn (SGDRegressor)."
   ]
  },
  {
   "cell_type": "code",
   "execution_count": 52,
   "metadata": {},
   "outputs": [
    {
     "data": {
      "text/plain": [
       "array([ 2.48679514,  0.19311269,  0.21810211,  0.10402339, -0.06250622,\n",
       "        0.03673825,  0.04482219,  0.0502914 ,  0.00780711, -0.10905209,\n",
       "       -0.93441951, -0.4973767 ])"
      ]
     },
     "execution_count": 52,
     "metadata": {},
     "output_type": "execute_result"
    }
   ],
   "source": [
    "model_sgd = SGDRegressor(max_iter=1000, penalty=None, eta0=0.1)\n",
    "model_sgd.fit(X_train, Y_train)\n",
    "W_sgd_sklearn = model_sgd.coef_\n",
    "W_sgd_sklearn"
   ]
  },
  {
   "cell_type": "code",
   "execution_count": 57,
   "metadata": {},
   "outputs": [
    {
     "name": "stdout",
     "output_type": "stream",
     "text": [
      "5.054705 - 2.486795 = 2.5679096212\n",
      "0.174551 - 0.193113 = -0.0185621691\n",
      "0.247177 - 0.218102 = 0.0290745508\n",
      "0.139764 - 0.104023 = 0.0357403548\n",
      "-0.058617 - -0.062506 = 0.0038891294\n",
      "0.055883 - 0.036738 = 0.0191451561\n",
      "0.015467 - 0.044822 = -0.0293551102\n",
      "0.083975 - 0.050291 = 0.0336832034\n",
      "-0.015817 - 0.007807 = -0.0236238618\n",
      "-0.078652 - -0.109052 = 0.0303995891\n",
      "-0.875322 - -0.934420 = 0.0590976279\n",
      "-0.497798 - -0.497377 = -0.0004217089\n",
      "Los coeficientes son iguales: False\n"
     ]
    }
   ],
   "source": [
    "compare_coefs(W_sgd, W_sgd_sklearn)\n",
    "\n",
    "with open('../models/sgd.pkl', 'wb') as file:\n",
    "    pickle.dump(W_sgd, file)\n",
    "\n",
    "with open('../models/sgd_sklearn.pkl', 'wb') as file:\n",
    "    pickle.dump(W_sgd_sklearn, file)"
   ]
  },
  {
   "cell_type": "markdown",
   "metadata": {},
   "source": [
    "**f) Lasso Regression (sólo librería)**"
   ]
  },
  {
   "cell_type": "code",
   "execution_count": null,
   "metadata": {},
   "outputs": [],
   "source": [
    "from sklearn.linear_model import Lasso\n",
    "\n",
    "model_lasso = Lasso(alpha=0.1)\n",
    "model_lasso.fit(X_train, Y_train)\n",
    "W_lasso = model_lasso.coef_\n",
    "print(W_lasso)\n",
    "\n",
    "with open('../models/lasso.pkl', 'wb') as file:\n",
    "    pickle.dump(W_lasso, file)"
   ]
  },
  {
   "cell_type": "markdown",
   "metadata": {},
   "source": [
    "**g) Ridge Regression (sólo librería)**"
   ]
  },
  {
   "cell_type": "code",
   "execution_count": null,
   "metadata": {},
   "outputs": [],
   "source": [
    "from sklearn.linear_model import Ridge\n",
    "\n",
    "model_ridge = Ridge(alpha=0.1)\n",
    "model_ridge.fit(X_train, Y_train)\n",
    "W_ridge = model_ridge.coef_\n",
    "print(W_ridge)\n",
    "\n",
    "with open('../models/ridge.pkl', 'wb') as file:\n",
    "    pickle.dump(W_ridge, file)"
   ]
  }
 ],
 "metadata": {
  "kernelspec": {
   "display_name": "Python 3",
   "language": "python",
   "name": "python3"
  },
  "language_info": {
   "codemirror_mode": {
    "name": "ipython",
    "version": 3
   },
   "file_extension": ".py",
   "mimetype": "text/x-python",
   "name": "python",
   "nbconvert_exporter": "python",
   "pygments_lexer": "ipython3",
   "version": "3.13.2"
  }
 },
 "nbformat": 4,
 "nbformat_minor": 2
}
