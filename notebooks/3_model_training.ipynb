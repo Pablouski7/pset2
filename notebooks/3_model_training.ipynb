{
 "cells": [
  {
   "cell_type": "code",
   "execution_count": 31,
   "metadata": {},
   "outputs": [],
   "source": [
    "from sklearn.model_selection import train_test_split\n",
    "from sklearn.preprocessing import add_dummy_feature\n",
    "import matplotlib.pyplot as plt\n",
    "import pandas as pd\n",
    "import numpy as np\n",
    "import pickle"
   ]
  },
  {
   "cell_type": "code",
   "execution_count": 32,
   "metadata": {},
   "outputs": [],
   "source": [
    "# Función para comparar los coeficientes de dos modelos hecha con ayuda de Claude sonnet 3.7\n",
    "def compare_coefs(W1, W2):\n",
    "    if len(W1) != len(W2):\n",
    "        print(f\"Arrays have different lengths: {len(W1)} vs {len(W2)}\")\n",
    "        return False\n",
    "    \n",
    "    max_diff = 0\n",
    "    for i in range(len(W1)):\n",
    "        diff = W1[i] - W2[i]\n",
    "        max_diff = max(max_diff, abs(diff))\n",
    "        print(f'{W1[i]:.6f} - {W2[i]:.6f} = {diff:.10f}')\n",
    "            \n",
    "    # Check for equality within a small tolerance to account for floating point errors\n",
    "    are_equal = np.allclose(W1, W2, rtol=1e-10, atol=1e-10)\n",
    "    print(f\"Los coeficientes son iguales: {are_equal}\")\n",
    "    return are_equal"
   ]
  },
  {
   "cell_type": "code",
   "execution_count": 33,
   "metadata": {},
   "outputs": [],
   "source": [
    "source_file = '../data/processed/Airbnb_Feature_Engineered.csv'\n",
    "df = pd.read_csv(source_file, low_memory=False)\n",
    "\n",
    "# Dividir primero en train+valid y test\n",
    "train_valid, test = train_test_split(df, test_size=0.2, random_state=42)\n",
    "\n",
    "# Dividir train+valid en train y valid\n",
    "train, valid = train_test_split(train_valid, test_size=0.2, random_state=42)\n",
    "\n",
    "train.to_csv('../data/processed/Airbnb_Train.csv', index=False)\n",
    "valid.to_csv('../data/processed/Airbnb_Valid.csv', index=False)\n",
    "test.to_csv('../data/processed/Airbnb_Test.csv', index=False)"
   ]
  },
  {
   "cell_type": "code",
   "execution_count": 34,
   "metadata": {},
   "outputs": [],
   "source": [
    "# Definir las matrices X y Y\n",
    "Y_train = train['log_price']\n",
    "X_train = train.drop(columns=['log_price'])\n",
    "\n",
    "Y_valid = valid['log_price']\n",
    "X_valid = valid.drop(columns=['log_price'])\n",
    "\n",
    "# Convertir a numpy arrays\n",
    "X_train = X_train.to_numpy()\n",
    "Y_train = Y_train.to_numpy()\n",
    "\n",
    "X_valid = X_valid.to_numpy()\n",
    "Y_valid = Y_valid.to_numpy()\n",
    "\n",
    "# Añadir una columna de unos para el término de intercepción\n",
    "X_train = add_dummy_feature(X_train)\n",
    "X_valid = add_dummy_feature(X_valid)"
   ]
  },
  {
   "cell_type": "markdown",
   "metadata": {},
   "source": [
    "**a) Regresión Lineal con Ecuación Normal**\n",
    "*   Implementación propia."
   ]
  },
  {
   "cell_type": "code",
   "execution_count": 35,
   "metadata": {},
   "outputs": [
    {
     "data": {
      "text/plain": [
       "array([ 5.06464045e+00,  1.68135361e-01,  2.49744206e-01,  1.40129705e-01,\n",
       "       -5.58146368e-02,  5.54764751e-02, -1.06966420e-02,  1.63695738e-02,\n",
       "        8.51162873e-02, -1.53606121e-02, -8.15967584e-02,  3.90669119e-03,\n",
       "       -9.33333932e-01, -5.07140448e-01])"
      ]
     },
     "execution_count": 35,
     "metadata": {},
     "output_type": "execute_result"
    }
   ],
   "source": [
    "# Calcular los pesos usando la ecuación normal\n",
    "W = np.linalg.inv(X_train.T @ X_train) @ X_train.T @ Y_train\n",
    "W"
   ]
  },
  {
   "cell_type": "markdown",
   "metadata": {},
   "source": [
    "*   Uso de sklearn (LinearRegression)."
   ]
  },
  {
   "cell_type": "code",
   "execution_count": 36,
   "metadata": {},
   "outputs": [
    {
     "data": {
      "text/plain": [
       "array([ 5.06464045e+00,  1.68135361e-01,  2.49744206e-01,  1.40129705e-01,\n",
       "       -5.58146368e-02,  5.54764751e-02, -1.06966420e-02,  1.63695738e-02,\n",
       "        8.51162873e-02, -1.53606121e-02, -8.15967584e-02,  3.90669119e-03,\n",
       "       -9.33333932e-01, -5.07140448e-01])"
      ]
     },
     "execution_count": 36,
     "metadata": {},
     "output_type": "execute_result"
    }
   ],
   "source": [
    "from sklearn.linear_model import LinearRegression\n",
    "\n",
    "model = LinearRegression(fit_intercept=False)\n",
    "model.fit(X_train, Y_train)\n",
    "W_sklearn = model.coef_\n",
    "W_sklearn"
   ]
  },
  {
   "cell_type": "code",
   "execution_count": 37,
   "metadata": {},
   "outputs": [
    {
     "name": "stdout",
     "output_type": "stream",
     "text": [
      "5.064640 - 5.064640 = -0.0000000000\n",
      "0.168135 - 0.168135 = -0.0000000000\n",
      "0.249744 - 0.249744 = 0.0000000000\n",
      "0.140130 - 0.140130 = 0.0000000000\n",
      "-0.055815 - -0.055815 = 0.0000000000\n",
      "0.055476 - 0.055476 = -0.0000000000\n",
      "-0.010697 - -0.010697 = -0.0000000000\n",
      "0.016370 - 0.016370 = 0.0000000000\n",
      "0.085116 - 0.085116 = 0.0000000000\n",
      "-0.015361 - -0.015361 = 0.0000000000\n",
      "-0.081597 - -0.081597 = -0.0000000000\n",
      "0.003907 - 0.003907 = 0.0000000000\n",
      "-0.933334 - -0.933334 = -0.0000000000\n",
      "-0.507140 - -0.507140 = -0.0000000000\n",
      "Los coeficientes son iguales: True\n"
     ]
    }
   ],
   "source": [
    "compare_coefs(W, W_sklearn)\n",
    "\n",
    "# Guardar los pesos en un archivo .pkl\n",
    "with open('../models/ecuacion_normal.pkl', 'wb') as file:\n",
    "    pickle.dump(W_sklearn, file)"
   ]
  },
  {
   "cell_type": "markdown",
   "metadata": {},
   "source": [
    "**b) Regresión Lineal con Singular Value Decomposition (SVD)**\n",
    "*   Implementación con librerías de álgebra lineal."
   ]
  },
  {
   "cell_type": "code",
   "execution_count": 38,
   "metadata": {},
   "outputs": [
    {
     "data": {
      "text/plain": [
       "array([ 5.06464045e+00,  1.68135361e-01,  2.49744206e-01,  1.40129705e-01,\n",
       "       -5.58146368e-02,  5.54764751e-02, -1.06966420e-02,  1.63695738e-02,\n",
       "        8.51162873e-02, -1.53606121e-02, -8.15967584e-02,  3.90669119e-03,\n",
       "       -9.33333932e-01, -5.07140448e-01])"
      ]
     },
     "execution_count": 38,
     "metadata": {},
     "output_type": "execute_result"
    }
   ],
   "source": [
    "U, sigma, Vt = np.linalg.svd(X_train, full_matrices=False)\n",
    "sigma_plus = np.diag(1/sigma)\n",
    "W_svd = Vt.T @ sigma_plus @ U.T @ Y_train\n",
    "W_svd"
   ]
  },
  {
   "cell_type": "markdown",
   "metadata": {},
   "source": [
    "*   Uso de sklearn (LinearRegression)."
   ]
  },
  {
   "cell_type": "code",
   "execution_count": 39,
   "metadata": {},
   "outputs": [
    {
     "data": {
      "text/plain": [
       "array([ 5.06464045e+00,  1.68135361e-01,  2.49744206e-01,  1.40129705e-01,\n",
       "       -5.58146368e-02,  5.54764751e-02, -1.06966420e-02,  1.63695738e-02,\n",
       "        8.51162873e-02, -1.53606121e-02, -8.15967584e-02,  3.90669119e-03,\n",
       "       -9.33333932e-01, -5.07140448e-01])"
      ]
     },
     "execution_count": 39,
     "metadata": {},
     "output_type": "execute_result"
    }
   ],
   "source": [
    "model = LinearRegression(fit_intercept=False)\n",
    "model.fit(X_train, Y_train)  # Automáticamente usa SVD para matrices singulares\n",
    "W_sklearn_svd = model.coef_\n",
    "W_sklearn_svd"
   ]
  },
  {
   "cell_type": "code",
   "execution_count": 40,
   "metadata": {},
   "outputs": [
    {
     "name": "stdout",
     "output_type": "stream",
     "text": [
      "5.064640 - 5.064640 = -0.0000000000\n",
      "0.168135 - 0.168135 = -0.0000000000\n",
      "0.249744 - 0.249744 = -0.0000000000\n",
      "0.140130 - 0.140130 = 0.0000000000\n",
      "-0.055815 - -0.055815 = 0.0000000000\n",
      "0.055476 - 0.055476 = 0.0000000000\n",
      "-0.010697 - -0.010697 = -0.0000000000\n",
      "0.016370 - 0.016370 = -0.0000000000\n",
      "0.085116 - 0.085116 = -0.0000000000\n",
      "-0.015361 - -0.015361 = -0.0000000000\n",
      "-0.081597 - -0.081597 = -0.0000000000\n",
      "0.003907 - 0.003907 = -0.0000000000\n",
      "-0.933334 - -0.933334 = -0.0000000000\n",
      "-0.507140 - -0.507140 = -0.0000000000\n",
      "Los coeficientes son iguales: True\n"
     ]
    }
   ],
   "source": [
    "compare_coefs(W_svd, W_sklearn_svd)\n",
    "# Guardar los pesos en un archivo .pkl\n",
    "with open('../models/svd.pkl', 'wb') as file:\n",
    "    pickle.dump(W_sklearn_svd, file)"
   ]
  },
  {
   "cell_type": "markdown",
   "metadata": {},
   "source": [
    "**c) Regresión Polinomial**\n",
    "*   Uso de sklearn (PolynomialFeatures + LinearRegression)."
   ]
  },
  {
   "cell_type": "code",
   "execution_count": 41,
   "metadata": {},
   "outputs": [
    {
     "name": "stdout",
     "output_type": "stream",
     "text": [
      "[ 1.09964866e-17  9.02659752e-02  1.41999789e-01  5.89747630e-02\n",
      " -1.47610911e-02  7.00889237e-02 -2.47446386e-02  9.89461229e-03\n",
      "  2.80948351e-02 -9.75302819e-03 -3.14652475e-02 -3.04317719e-05\n",
      " -2.90553658e-01 -1.70719611e-01  2.01227923e-16  9.02659752e-02\n",
      "  1.41999789e-01  5.89747630e-02 -1.47610911e-02  7.00889237e-02\n",
      " -2.47446386e-02  9.89461229e-03  2.80948351e-02 -9.75302819e-03\n",
      " -3.14652475e-02 -3.04317719e-05 -2.90553658e-01 -1.70719611e-01\n",
      " -5.98274425e-03  2.43915689e-02  2.22243513e-02 -2.04326688e-02\n",
      " -4.49865220e-03 -2.60696809e-02 -1.28150201e-02  4.16947242e-02\n",
      " -1.51083819e-02 -6.01167907e-02  7.50032194e-03  1.34661415e-01\n",
      "  1.05724628e-01 -1.28086987e-03 -5.07253305e-04 -2.11043735e-02\n",
      " -6.09600576e-03 -5.22202585e-02 -7.93517746e-04 -1.79657010e-03\n",
      " -1.25470890e-03 -3.88317782e-02 -5.81199236e-03  4.29738421e-02\n",
      " -1.38665120e-03 -3.74515482e-04 -1.87554418e-02 -8.44389866e-03\n",
      " -1.29314335e-02  3.91436058e-03 -2.19534556e-03  7.79497001e-03\n",
      "  2.91633580e-03 -3.62774212e-03  8.62202859e-02 -8.74365079e-02\n",
      "  1.38803716e-02  1.17546668e-03  2.87229236e-02 -3.31859836e-03\n",
      "  2.09621230e-03  4.42664046e-03  2.39631547e-02 -6.63376275e-03\n",
      " -1.96711901e-01 -1.81182950e-03  2.90172550e-03  2.28983150e-03\n",
      "  1.91957721e-03 -2.35233983e-03 -1.14950227e-03 -7.62982217e-04\n",
      " -2.71651391e-03 -2.11949498e-01 -1.62383047e-01 -2.47446386e-02\n",
      " -2.08239914e-03  3.04996620e-02  5.24733651e-02  1.11617327e-01\n",
      "  2.17948592e-02  7.86653940e-02  5.01214480e-02  6.37506264e-03\n",
      " -8.53907403e-04  1.09067652e-02 -1.00661077e-02 -3.70008640e-03\n",
      "  7.25114089e-03 -1.18925708e-03  2.80948351e-02 -2.81114187e-02\n",
      " -3.12845335e-02  2.93126963e-03 -1.20486700e-01  1.93628589e-02\n",
      "  2.22466584e-02  2.04576965e-02  7.71505794e-04 -1.02420999e-01\n",
      " -1.66107187e-02 -3.14652475e-02  6.93554971e-04 -5.34880584e-03\n",
      " -2.32692061e-03  1.70041512e-02  7.48208129e-02  1.01955164e-02\n",
      " -2.90553658e-01  0.00000000e+00 -1.70719611e-01]\n"
     ]
    }
   ],
   "source": [
    "from sklearn.preprocessing import PolynomialFeatures\n",
    "from sklearn.pipeline import make_pipeline\n",
    "\n",
    "# Crear características polinomiales de grado 2\n",
    "poly_features = PolynomialFeatures(degree=2, include_bias=False)\n",
    "X_poly = poly_features.fit_transform(X_train)\n",
    "\n",
    "model_poly = LinearRegression()\n",
    "model_poly.fit(X_poly, Y_train)\n",
    "W_poly = model_poly.coef_\n",
    "print(W_poly)\n",
    "\n",
    "# Guardar los pesos en un archivo .pkl\n",
    "with open('../models/polynomial.pkl', 'wb') as file:\n",
    "    pickle.dump(W_poly, file)"
   ]
  },
  {
   "cell_type": "markdown",
   "metadata": {},
   "source": [
    "*   Análisis del grado del polinomio y su efecto en el sobreajuste."
   ]
  },
  {
   "cell_type": "code",
   "execution_count": 42,
   "metadata": {},
   "outputs": [
    {
     "name": "stdout",
     "output_type": "stream",
     "text": [
      "Grado 1: Train R2=0.62, Test R2=0.63\n",
      "Grado 2: Train R2=0.64, Test R2=0.64\n",
      "Grado 3: Train R2=0.65, Test R2=0.64\n",
      "Grado 4: Train R2=0.67, Test R2=-0.02\n"
     ]
    }
   ],
   "source": [
    "# Análisis de sobreajuste \n",
    "for g in range(1,5):\n",
    "    model = make_pipeline(PolynomialFeatures(g), LinearRegression())\n",
    "    model.fit(X_train, Y_train)\n",
    "    train_score = model.score(X_train, Y_train)\n",
    "    test_score = model.score(X_valid, Y_valid)\n",
    "    print(f\"Grado {g}: Train R2={train_score:.2f}, Test R2={test_score:.2f}\")"
   ]
  },
  {
   "cell_type": "markdown",
   "metadata": {},
   "source": [
    "Al ver como mejora la \"puntuación\" en el conjunto de Train pero no en el de Test a medida que incrementamos los grados del polinomio, entonces podemos observar que se esta produciendo overfitting."
   ]
  },
  {
   "cell_type": "markdown",
   "metadata": {},
   "source": [
    "\n",
    "**d) Regresión Lineal con Batch Gradient Descent (BGD)**\n",
    "*   Implementación propia de BGD."
   ]
  },
  {
   "cell_type": "code",
   "execution_count": 43,
   "metadata": {},
   "outputs": [
    {
     "name": "stdout",
     "output_type": "stream",
     "text": [
      "Pesos iniciales: [[ 0.49671415 -0.1382643   0.64768854  1.52302986 -0.23415337 -0.23413696\n",
      "   1.57921282  0.76743473 -0.46947439  0.54256004 -0.46341769 -0.46572975\n",
      "   0.24196227 -1.91328024]]\n",
      "Pesos finales: [ 5.06315354e+00  1.69441255e-01  2.49991851e-01  1.40080227e-01\n",
      " -5.65509334e-02  5.52538856e-02 -1.06187768e-02  1.63925557e-02\n",
      "  8.50039438e-02 -1.53790244e-02 -8.10354139e-02  3.92355863e-03\n",
      " -9.21660335e-01 -5.05482998e-01]\n"
     ]
    }
   ],
   "source": [
    "lr = 0.1  \n",
    "n_epocas = 1000\n",
    "m = len(X_train)\n",
    "\n",
    "np.random.seed(42)\n",
    "W_bgd = np.random.randn(X_train.shape[1], 1)\n",
    "print(f\"Pesos iniciales: {W_bgd.T}\")\n",
    "\n",
    "for epoch in range(n_epocas):\n",
    "    gradient = (2/m) * X_train.T @ (X_train @ W_bgd - Y_train.reshape(-1, 1))\n",
    "    W_bgd = W_bgd - lr * gradient\n",
    "\n",
    "W_bgd = W_bgd.ravel()\n",
    "print(f\"Pesos finales: {W_bgd}\")"
   ]
  },
  {
   "cell_type": "markdown",
   "metadata": {},
   "source": [
    "*   Uso de sklearn con SGDRegressor (ajustado a modo batch)."
   ]
  },
  {
   "cell_type": "code",
   "execution_count": 44,
   "metadata": {},
   "outputs": [
    {
     "name": "stdout",
     "output_type": "stream",
     "text": [
      "[ 2.56129868  0.17858196  0.25906001  0.13790172 -0.1012191   0.04230188\n",
      " -0.03462789  0.04387672  0.06038697  0.00459016 -0.13425867  0.02461154\n",
      " -0.90674369 -0.55497279]\n"
     ]
    }
   ],
   "source": [
    "from sklearn.linear_model import SGDRegressor\n",
    "\n",
    "model_bgd = SGDRegressor(\n",
    "    learning_rate='constant',\n",
    "    eta0=0.01,\n",
    "    tol=1e-5,\n",
    "    penalty=None,\n",
    "    shuffle=True,\n",
    ")\n",
    "\n",
    "# Entrenar el modelo en modo batch\n",
    "for epoch in range(1000):  \n",
    "    model_bgd.partial_fit(X_train, Y_train)\n",
    "\n",
    "W_bgd_sklearn = model_bgd.coef_\n",
    "print(W_bgd_sklearn)"
   ]
  },
  {
   "cell_type": "code",
   "execution_count": 45,
   "metadata": {},
   "outputs": [
    {
     "name": "stdout",
     "output_type": "stream",
     "text": [
      "5.063154 - 2.561299 = 2.5018548602\n",
      "0.169441 - 0.178582 = -0.0091407026\n",
      "0.249992 - 0.259060 = -0.0090681594\n",
      "0.140080 - 0.137902 = 0.0021785031\n",
      "-0.056551 - -0.101219 = 0.0446681646\n",
      "0.055254 - 0.042302 = 0.0129520041\n",
      "-0.010619 - -0.034628 = 0.0240091108\n",
      "0.016393 - 0.043877 = -0.0274841646\n",
      "0.085004 - 0.060387 = 0.0246169763\n",
      "-0.015379 - 0.004590 = -0.0199691850\n",
      "-0.081035 - -0.134259 = 0.0532232592\n",
      "0.003924 - 0.024612 = -0.0206879786\n",
      "-0.921660 - -0.906744 = -0.0149166441\n",
      "-0.505483 - -0.554973 = 0.0494897882\n",
      "Los coeficientes son iguales: False\n"
     ]
    }
   ],
   "source": [
    "compare_coefs(W_bgd, W_bgd_sklearn)\n",
    "\n",
    "with open('../models/bgd.pkl', 'wb') as file:\n",
    "    pickle.dump(W_bgd, file)\n",
    "\n",
    "with open('../models/bgd_sklearn.pkl', 'wb') as file:\n",
    "    pickle.dump(W_bgd_sklearn, file)"
   ]
  },
  {
   "cell_type": "markdown",
   "metadata": {},
   "source": [
    "**e) Regresión Lineal con Stochastic Gradient Descent (SGD)**\n",
    "*   Implementación propia de SGD."
   ]
  },
  {
   "cell_type": "code",
   "execution_count": 46,
   "metadata": {},
   "outputs": [
    {
     "name": "stdout",
     "output_type": "stream",
     "text": [
      "Pesos iniciales: [[ 0.49671415]\n",
      " [-0.1382643 ]\n",
      " [ 0.64768854]\n",
      " [ 1.52302986]\n",
      " [-0.23415337]\n",
      " [-0.23413696]\n",
      " [ 1.57921282]\n",
      " [ 0.76743473]\n",
      " [-0.46947439]\n",
      " [ 0.54256004]\n",
      " [-0.46341769]\n",
      " [-0.46572975]\n",
      " [ 0.24196227]\n",
      " [-1.91328024]]\n"
     ]
    },
    {
     "name": "stdout",
     "output_type": "stream",
     "text": [
      "Pesos finales: [ 5.05189347e+00  1.76986975e-01  2.52865430e-01  1.37993566e-01\n",
      " -6.02262243e-02  5.38593050e-02 -8.79886716e-03  1.60545472e-02\n",
      "  8.77003979e-02 -1.54315776e-02 -7.60350310e-02  4.43667207e-03\n",
      " -8.47890252e-01 -4.94618026e-01]\n"
     ]
    }
   ],
   "source": [
    "def programa_aprendizaje(t):\n",
    "    return lr_init_sch / (t + lr_end_sch)\n",
    "\n",
    "n_epocas = 50\n",
    "lr_init_sch = 5\n",
    "lr_end_sch = 50\n",
    "m = len(X_train)\n",
    "\n",
    "np.random.seed(42)\n",
    "W_sgd = np.random.randn(X_train.shape[1], 1)\n",
    "print(f\"Pesos iniciales: {W_sgd}\")\n",
    "\n",
    "for epoca in range(n_epocas):\n",
    "    for iteracion in range(m):\n",
    "        indice_aleatorio = np.random.randint(m)\n",
    "        xi = X_train[indice_aleatorio : indice_aleatorio + 1]\n",
    "        yi = Y_train[indice_aleatorio : indice_aleatorio + 1]\n",
    "\n",
    "        gradient = 2 * xi.T @ (xi @ W_sgd - yi)\n",
    "\n",
    "        lr = programa_aprendizaje(epoca * m + iteracion)\n",
    "        W_sgd = W_sgd - lr * gradient\n",
    "\n",
    "W_sgd = W_sgd.ravel()\n",
    "print(f\"Pesos finales: {W_sgd}\")"
   ]
  },
  {
   "cell_type": "markdown",
   "metadata": {},
   "source": [
    "*   Uso de sklearn (SGDRegressor)."
   ]
  },
  {
   "cell_type": "code",
   "execution_count": 90,
   "metadata": {},
   "outputs": [
    {
     "data": {
      "text/plain": [
       "array([ 2.52151866,  0.18284067,  0.26753727,  0.14040043, -0.02192094,\n",
       "        0.02719179,  0.00521287, -0.02753908,  0.08511565, -0.00754343,\n",
       "       -0.06074031,  0.02656101, -0.91418956, -0.54241738])"
      ]
     },
     "execution_count": 90,
     "metadata": {},
     "output_type": "execute_result"
    }
   ],
   "source": [
    "model_sgd = SGDRegressor(max_iter=1000, penalty=None, eta0=0.1)\n",
    "model_sgd.fit(X_train, Y_train)\n",
    "W_sgd_sklearn = model_sgd.coef_\n",
    "W_sgd_sklearn"
   ]
  },
  {
   "cell_type": "code",
   "execution_count": 48,
   "metadata": {},
   "outputs": [
    {
     "name": "stdout",
     "output_type": "stream",
     "text": [
      "5.051893 - 2.517431 = 2.5344627891\n",
      "0.176987 - 0.127562 = 0.0494250726\n",
      "0.252865 - 0.244902 = 0.0079638997\n",
      "0.137994 - 0.105546 = 0.0324478913\n",
      "-0.060226 - -0.029602 = -0.0306245274\n",
      "0.053859 - 0.042002 = 0.0118574463\n",
      "-0.008799 - -0.026102 = 0.0173028874\n",
      "0.016055 - 0.002849 = 0.0132056616\n",
      "0.087700 - 0.091160 = -0.0034595145\n",
      "-0.015432 - 0.016589 = -0.0320204937\n",
      "-0.076035 - -0.077346 = 0.0013111471\n",
      "0.004437 - 0.015446 = -0.0110097895\n",
      "-0.847890 - -0.943854 = 0.0959634026\n",
      "-0.494618 - -0.479647 = -0.0149707665\n",
      "Los coeficientes son iguales: False\n"
     ]
    }
   ],
   "source": [
    "compare_coefs(W_sgd, W_sgd_sklearn)\n",
    "\n",
    "with open('../models/sgd.pkl', 'wb') as file:\n",
    "    pickle.dump(W_sgd, file)\n",
    "\n",
    "with open('../models/sgd_sklearn.pkl', 'wb') as file:\n",
    "    pickle.dump(W_sgd_sklearn, file)"
   ]
  },
  {
   "cell_type": "markdown",
   "metadata": {},
   "source": [
    "**f) Lasso Regression (sólo librería)**"
   ]
  },
  {
   "cell_type": "code",
   "execution_count": 49,
   "metadata": {},
   "outputs": [
    {
     "name": "stdout",
     "output_type": "stream",
     "text": [
      "[ 4.67073082  0.25476064  0.21903217  0.03341096  0.          0.\n",
      "  0.          0.          0.          0.          0.         -0.\n",
      " -0.         -0.        ]\n"
     ]
    }
   ],
   "source": [
    "from sklearn.linear_model import Lasso\n",
    "\n",
    "model_lasso = Lasso(alpha=0.1, fit_intercept=False)\n",
    "model_lasso.fit(X_train, Y_train)\n",
    "W_lasso = model_lasso.coef_\n",
    "print(W_lasso)\n",
    "\n",
    "with open('../models/lasso.pkl', 'wb') as file:\n",
    "    pickle.dump(W_lasso, file)"
   ]
  },
  {
   "cell_type": "markdown",
   "metadata": {},
   "source": [
    "**g) Ridge Regression (sólo librería)**"
   ]
  },
  {
   "cell_type": "code",
   "execution_count": 50,
   "metadata": {},
   "outputs": [
    {
     "name": "stdout",
     "output_type": "stream",
     "text": [
      "[ 5.06456261e+00  1.68151625e-01  2.49745148e-01  1.40126618e-01\n",
      " -5.58178320e-02  5.54737819e-02 -1.06801314e-02  1.63660653e-02\n",
      "  8.51223699e-02 -1.53658589e-02 -8.15427690e-02  3.90645583e-03\n",
      " -9.33210890e-01 -5.07092222e-01]\n"
     ]
    }
   ],
   "source": [
    "from sklearn.linear_model import Ridge\n",
    "\n",
    "model_ridge = Ridge(alpha=0.1, fit_intercept=False)\n",
    "model_ridge.fit(X_train, Y_train)\n",
    "W_ridge = model_ridge.coef_\n",
    "print(W_ridge)\n",
    "\n",
    "with open('../models/ridge.pkl', 'wb') as file:\n",
    "    pickle.dump(W_ridge, file)"
   ]
  }
 ],
 "metadata": {
  "kernelspec": {
   "display_name": "Python 3",
   "language": "python",
   "name": "python3"
  },
  "language_info": {
   "codemirror_mode": {
    "name": "ipython",
    "version": 3
   },
   "file_extension": ".py",
   "mimetype": "text/x-python",
   "name": "python",
   "nbconvert_exporter": "python",
   "pygments_lexer": "ipython3",
   "version": "3.13.2"
  }
 },
 "nbformat": 4,
 "nbformat_minor": 2
}
